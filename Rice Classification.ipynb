{
 "cells": [
  {
   "cell_type": "code",
   "execution_count": 14,
   "metadata": {},
   "outputs": [],
   "source": [
    "import cv2 as cv\n",
    "%matplotlib inline\n",
    "import glob\n",
    "import pandas as pd\n",
    "import numpy as np\n",
    "import os\n",
    "import matplotlib.pyplot as plt"
   ]
  },
  {
   "cell_type": "code",
   "execution_count": 15,
   "metadata": {},
   "outputs": [
    {
     "name": "stdout",
     "output_type": "stream",
     "text": [
      "6929\n",
      "\n",
      "Program for brokenrice\n",
      "Total circles: 255\n",
      "3051\n",
      "\n",
      "Program for brokenrice\n",
      "Total circles: 149\n",
      "3336\n",
      "\n",
      "Program for brokenrice\n",
      "Total circles: 332\n",
      "2124\n",
      "\n",
      "Program for brokenrice\n",
      "Total circles: 122\n",
      "2581\n",
      "\n",
      "Program for brokenrice\n",
      "Total circles: 105\n",
      "3841\n",
      "\n",
      "Program for brokenrice\n",
      "Total circles: 362\n",
      "5099\n",
      "\n",
      "Program for brokenrice\n",
      "Total circles: 335\n",
      "3819\n",
      "\n",
      "Program for brokenrice\n",
      "Total circles: 371\n",
      "4589\n",
      "\n",
      "Program for brokenrice\n",
      "Total circles: 340\n",
      "2879\n",
      "\n",
      "Program for brokenrice\n",
      "Total circles: 221\n",
      "3693\n",
      "\n",
      "Program for brokenrice\n",
      "Total circles: 194\n",
      "2417\n",
      "\n",
      "Program for brokenrice\n",
      "Total circles: 167\n"
     ]
    },
    {
     "data": {
      "image/png": "[encoded data removed]",
      "text/plain": [
       "<Figure size 432x288 with 1 Axes>"
      ]
     },
     "metadata": {
      "needs_background": "light"
     },
     "output_type": "display_data"
    }
   ],
   "source": [
    "cv_img = []\n",
    "for img in glob.glob(\"C:/Users/lalit/Downloads/data/train/*.jpg\"):   #train dataset\n",
    "    n= cv.imread(img,cv.IMREAD_GRAYSCALE)\n",
    "    #n = cv.cvtColor(n, )\n",
    "    kernelSize, C = 25,-10\n",
    "    img_adapt_thresh = th2 = cv.adaptiveThreshold(n,255,cv.ADAPTIVE_THRESH_MEAN_C, cv.THRESH_BINARY,kernelSize, C)\n",
    "    #cv.imwrite()\n",
    "#    cv_img.append(n)\n",
    "    ksize = 3\n",
    "    kernel = cv.getStructuringElement(cv.MORPH_RECT,(ksize,ksize))\n",
    "    eroded_img = cv.erode(img_adapt_thresh, kernel)\n",
    "    num_labels, labeledImg = cv.connectedComponents(eroded_img)\n",
    "    num_grains = num_labels -1; print(num_grains)\n",
    "    (minVal, maxVal, minLoc, maxLoc) = cv.minMaxLoc(labeledImg)\n",
    "# Normalize the image so the min value is 0 and max value is 255.\n",
    "    labeledImg = (255/(maxVal-minVal)) * (labeledImg - minVal)\n",
    "    imgColorMap = cv.applyColorMap(labeledImg.astype('uint8'), cv.COLORMAP_RAINBOW)\n",
    "    imgColorMap[labeledImg==0] = 0\n",
    "# Display colormapped labels\n",
    "    plt.imshow(imgColorMap[::1])\n",
    "    \n",
    "    print()\n",
    "    print(\"Program for brokenrice\")\n",
    "    windowSize = 41\n",
    "    windowConstant = 60\n",
    "    mask = cv.adaptiveThreshold(n, 255, cv.ADAPTIVE_THRESH_MEAN_C, cv.THRESH_BINARY_INV, windowSize, windowConstant)\n",
    "    plt.imshow(mask)\n",
    "\n",
    "    stats = cv.connectedComponentsWithStats(mask, 8)[2]\n",
    "    label_area = stats[1:, cv.CC_STAT_AREA]\n",
    "\n",
    "    min_area, max_area = 345, max(list(label_area))  # min/max for a single circle\n",
    "    singular_mask = (min_area < label_area) & (label_area <= max_area)\n",
    "    circle_area = np.mean(label_area[singular_mask])\n",
    "\n",
    "    n_circles = int(np.sum(np.round(label_area / circle_area)))\n",
    "\n",
    "    print('Total circles:', n_circles)\n",
    "        \n",
    "    \n",
    "#c"
   ]
  },
  {
   "cell_type": "code",
   "execution_count": 16,
   "metadata": {},
   "outputs": [
    {
     "name": "stdout",
     "output_type": "stream",
     "text": [
      "4473\n",
      "\n",
      "Program for brokenrice\n",
      "Total circles: 316\n",
      "3408\n",
      "\n",
      "Program for brokenrice\n",
      "Total circles: 208\n",
      "1756\n",
      "\n",
      "Program for brokenrice\n",
      "Total circles: 180\n",
      "2741\n",
      "\n",
      "Program for brokenrice\n",
      "Total circles: 202\n",
      "2879\n",
      "\n",
      "Program for brokenrice\n",
      "Total circles: 221\n"
     ]
    },
    {
     "data": {
      "image/png": "[encoded data removed]",
      "text/plain": [
       "<Figure size 432x288 with 1 Axes>"
      ]
     },
     "metadata": {
      "needs_background": "light"
     },
     "output_type": "display_data"
    }
   ],
   "source": [
    "for img in glob.glob(\"C:/Users/lalit/Downloads/data/test/*.jpg\"):    # test dataset\n",
    "    final= cv.imread(img,cv.IMREAD_GRAYSCALE)\n",
    "    #n = cv.cvtColor(n, )\n",
    "    kernelSize, C = 25,-10\n",
    "    img_adapt_thresh = th2 = cv.adaptiveThreshold(final,255,cv.ADAPTIVE_THRESH_MEAN_C, cv.THRESH_BINARY,kernelSize, C)\n",
    "    #cv.imwrite()\n",
    "#    cv_img.append(n)\n",
    "    ksize = 3\n",
    "    kernel = cv.getStructuringElement(cv.MORPH_RECT,(ksize,ksize))\n",
    "    eroded_img = cv.erode(img_adapt_thresh, kernel)\n",
    "    num_labels, labeledImg = cv.connectedComponents(eroded_img)\n",
    "    num_grains = num_labels -1; print(num_grains)\n",
    "    (minVal, maxVal, minLoc, maxLoc) = cv.minMaxLoc(labeledImg)\n",
    "# Normalize the image so the min value is 0 and max value is 255.\n",
    "    labeledImg = (255/(maxVal-minVal)) * (labeledImg - minVal)\n",
    "# Applying the color map for better visulization\n",
    "    imgColorMap = cv.applyColorMap(labeledImg.astype('uint8'), cv.COLORMAP_RAINBOW)\n",
    "# Making the background black\n",
    "    imgColorMap[labeledImg==0] = 0\n",
    "# Display colormapped labels\n",
    "    plt.imshow(imgColorMap[:,:,::-1])\n",
    "    \n",
    "    print()\n",
    "    print(\"Program for brokenrice\")\n",
    "    windowSize = 41\n",
    "    windowConstant = 60\n",
    "    mask = cv.adaptiveThreshold(final, 255, cv.ADAPTIVE_THRESH_MEAN_C, cv.THRESH_BINARY_INV, windowSize, windowConstant)\n",
    "    plt.imshow(mask)\n",
    "\n",
    "    stats = cv.connectedComponentsWithStats(mask, 8)[2]\n",
    "    label_area = stats[1:, cv.CC_STAT_AREA]\n",
    "\n",
    "    min_area, max_area = 345, max(list(label_area))  # min/max for a single circle\n",
    "    singular_mask = (min_area < label_area) & (label_area <= max_area)\n",
    "    circle_area = np.mean(label_area[singular_mask])\n",
    "\n",
    "    n_circles = int(np.sum(np.round(label_area / circle_area)))\n",
    "\n",
    "    print('Total circles:', n_circles)\n",
    "\n",
    "#C:\\Users\\lalit\\Downloads\\data"
   ]
  },
  {
   "cell_type": "code",
   "execution_count": 5,
   "metadata": {},
   "outputs": [],
   "source": [
    "from tensorflow.keras.models import Sequential\n",
    "from tensorflow.keras.layers import Conv2D, MaxPooling2D, Flatten, Dense, Activation, Dropout"
   ]
  },
  {
   "cell_type": "code",
   "execution_count": 8,
   "metadata": {},
   "outputs": [],
   "source": [
    "import random"
   ]
  },
  {
   "cell_type": "code",
   "execution_count": 10,
   "metadata": {},
   "outputs": [],
   "source": [
    "# Now trying differnt approach \n",
    "\n",
    "#IMG_SIZE = (224,224)\n",
    "#train=[]\n",
    "#DIR=r'C:\\Users\\lalit\\Downloads\\data\\train'\n",
    "#category=['broken_grain','full_grain']\n",
    "#for c in category:\n",
    "  #  folder=os.path.join(DIR,c)\n",
    "   # label=category.index(c)\n",
    "    #for img in os.listdir(folder):\n",
    "     #   img_path=os.path.join(folder)\n",
    "      #  img_ar=cv.imread(img_path)\n",
    "       # img_ar=cv.resize(img_ar,IMG_SIZE)\n",
    "       # train.append([img_ar,label])\n",
    "#random.shuffle(train)\n",
    "#X_train = []\n",
    "#y_train = []\n",
    "#for features, labels in train:\n",
    " #   X_train.append(features)\n",
    "  #  y_train.append(labels)\n",
    "#X_train = np.array(X_train)\n",
    "#y_train = np.array(y_train)\n",
    "#X_train = X_train\n",
    "\n"
   ]
  },
  {
   "cell_type": "code",
   "execution_count": 17,
   "metadata": {},
   "outputs": [],
   "source": [
    "#model = Sequential()\n",
    "\n",
    "#model.add(Conv2D(32, (3, 3), input_shape = X_train.shape[1:]))\n",
    "#model.add(Activation('relu')) \n",
    "#model.add(MaxPooling2D(pool_size = (2, 2))) #max pooling layer of size 2x2\n",
    "\n",
    "#model.add(Conv2D(32, (3, 3)))\n",
    "#model.add(Activation('relu')) #Rectified Linear Unit as Activation function\n",
    "#model.add(MaxPooling2D(pool_size = (2, 2))) #max pooling layer of size 2x2\n",
    "\n",
    "#third CNN layer with 64 layers and feature extractor of size 3x3\n",
    "#model.add(Conv2D(64, (3, 3)))\n",
    "#model.add(Activation('relu')) #Rectified Linear Unit as Activation function\n",
    "#model.add(MaxPooling2D(pool_size = (2, 2))) #max pooling layer of size 2x2\n",
    "\n",
    "#model.add(Flatten()) #Flattening to get 1D array of features\n",
    "#model.add(Dense(64)) #defining the hidden layer with 64 neurons\n",
    "#model.add(Activation('relu')) #Rectified Linear Unit as Activation function\n",
    "#model.add(Dropout(0.5)) \n",
    "#model.add(Dense(2))\n",
    "#model.add(Activation('softmax'))\n",
    "\n",
    "#model.compile(loss = 'sparse_categorical_crossentropy', optimizer = 'rmsprop', metrics = ['accuracy']) #compiling the model with the given parameters\n",
    "\n",
    "#model.fit(X_train, y_train, epochs = 10, validation_split = 0.1)\n"
   ]
  },
  {
   "cell_type": "code",
   "execution_count": null,
   "metadata": {},
   "outputs": [],
   "source": []
  }
 ],
 "metadata": {
  "kernelspec": {
   "display_name": "Python 3",
   "language": "python",
   "name": "python3"
  },
  "language_info": {
   "codemirror_mode": {
    "name": "ipython",
    "version": 3
   },
   "file_extension": ".py",
   "mimetype": "text/x-python",
   "name": "python",
   "nbconvert_exporter": "python",
   "pygments_lexer": "ipython3",
   "version": "3.7.6"
  }
 },
 "nbformat": 4,
 "nbformat_minor": 4
}
