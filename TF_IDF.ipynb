{
 "cells": [
  {
   "cell_type": "code",
   "execution_count": 1,
   "metadata": {
    "id": "1DQ7iuLLSybF"
   },
   "outputs": [],
   "source": [
    "from sklearn.feature_extraction.text import TfidfVectorizer\n",
    "import pandas as pd\n"
   ]
  },
  {
   "cell_type": "code",
   "execution_count": 2,
   "metadata": {
    "id": "1CTIhY09S_jq"
   },
   "outputs": [],
   "source": [
    "allsent = [\"this pasta is very tasty and affordable\",\n",
    "           \"this pasta is not very tasty and is affordable\",\n",
    "           \"this pasta is very very delicious\"]"
   ]
  },
  {
   "cell_type": "code",
   "execution_count": 4,
   "metadata": {
    "colab": {
     "base_uri": "https://localhost:8080/"
    },
    "id": "6PWJYduCTNsP",
    "outputId": "ba539282-d87f-46e1-978c-44878a3698cf"
   },
   "outputs": [
    {
     "name": "stdout",
     "output_type": "stream",
     "text": [
      "['affordable', 'and', 'delicious', 'is', 'not', 'pasta', 'tasty', 'this', 'very']\n",
      "   affordable       and  delicious        is       not     pasta     tasty  \\\n",
      "0    0.429840  0.429840   0.000000  0.333809  0.000000  0.333809  0.429840   \n",
      "1    0.334253  0.334253   0.000000  0.519154  0.439502  0.259577  0.334253   \n",
      "2    0.000000  0.000000   0.539024  0.318356  0.000000  0.318356  0.000000   \n",
      "\n",
      "       this      very  \n",
      "0  0.333809  0.333809  \n",
      "1  0.259577  0.259577  \n",
      "2  0.318356  0.636712  \n"
     ]
    },
    {
     "name": "stderr",
     "output_type": "stream",
     "text": [
      "/usr/local/lib/python3.7/dist-packages/sklearn/utils/deprecation.py:87: FutureWarning: Function get_feature_names is deprecated; get_feature_names is deprecated in 1.0 and will be removed in 1.2. Please use get_feature_names_out instead.\n",
      "  warnings.warn(msg, category=FutureWarning)\n"
     ]
    }
   ],
   "source": [
    "vectorizer = TfidfVectorizer()\n",
    "vectors = vectorizer.fit_transform(allsent)\n",
    "feature_names = vectorizer.get_feature_names()\n",
    "print(feature_names)\n",
    "matrix = vectors.todense()\n",
    "denselist = matrix.tolist()\n",
    "df = pd.DataFrame(denselist, columns=feature_names)\n",
    "print(df)"
   ]
  },
  {
   "cell_type": "code",
   "execution_count": 15,
   "metadata": {
    "colab": {
     "base_uri": "https://localhost:8080/"
    },
    "id": "vcw8mXKmTyjn",
    "outputId": "c0bc1018-18ae-423f-e5ed-1b4da133a5e0"
   },
   "outputs": [
    {
     "name": "stdout",
     "output_type": "stream",
     "text": [
      "['petrol cars are cheaper than diesel cars', 'diesel is cheater than petrol '] \n",
      "\n",
      "Feature Names : ['cars' 'cheaper' 'cheater' 'diesel' 'petrol'] \n",
      "\n",
      "Sparse Matrix :\n",
      " (2, 5) [[0.81564821 0.4078241  0.         0.29017021 0.29017021]\n",
      " [0.         0.         0.70490949 0.50154891 0.50154891]]\n"
     ]
    }
   ],
   "source": [
    "d1 = \"petrol cars are cheaper than diesel cars\"\n",
    "d2 = \"diesel is cheater than petrol \"\n",
    "doc_corpus = [d1, d2]\n",
    "print(doc_corpus,\"\\n\")\n",
    "vec = TfidfVectorizer(stop_words='english')\n",
    "matrix = vec.fit_transform(doc_corpus)\n",
    "print(\"Feature Names :\", vec.get_feature_names_out(),\"\\n\")\n",
    "print(\"Sparse Matrix :\\n\", matrix.shape, matrix.toarray())"
   ]
  },
  {
   "cell_type": "code",
   "execution_count": null,
   "metadata": {
    "id": "WFsklD97U7jf"
   },
   "outputs": [],
   "source": []
  }
 ],
 "metadata": {
  "colab": {
   "name": "TF_IDF.ipynb",
   "provenance": []
  },
  "kernelspec": {
   "display_name": "Python 3",
   "language": "python",
   "name": "python3"
  },
  "language_info": {
   "codemirror_mode": {
    "name": "ipython",
    "version": 3
   },
   "file_extension": ".py",
   "mimetype": "text/x-python",
   "name": "python",
   "nbconvert_exporter": "python",
   "pygments_lexer": "ipython3",
   "version": "3.7.6"
  }
 },
 "nbformat": 4,
 "nbformat_minor": 1
}
